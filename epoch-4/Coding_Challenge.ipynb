{
  "nbformat": 4,
  "nbformat_minor": 0,
  "metadata": {
    "colab": {
      "name": "Coding Challenge",
      "version": "0.3.2",
      "provenance": []
    },
    "kernelspec": {
      "name": "python3",
      "display_name": "Python 3"
    }
  },
  "cells": [
    {
      "metadata": {
        "id": "aPyNaZS5VXRs",
        "colab_type": "code",
        "colab": {}
      },
      "cell_type": "code",
      "source": [
        "import pandas as pd\n",
        "import numpy as np\n",
        "from urllib.request import urlopen\n",
        "\n",
        "file = urlopen('https://raw.githubusercontent.com/bucharestschoolofai/epoch-4/master/fashion-mnist.csv')\n",
        "data = pd.read_csv(file, delimiter=',')\n",
        "\n",
        "X = []\n",
        "y = []\n",
        "\n",
        "for row in data.values[1:]:\n",
        "  X.append(row[1:])\n",
        "  y.append([row[0]])\n",
        "\n",
        "X = np.reshape(X, (9999, 28, 28))\n",
        "y = np.reshape(y, (9999, 1))"
      ],
      "execution_count": 0,
      "outputs": []
    },
    {
      "metadata": {
        "id": "JhL1v-OfYBn-",
        "colab_type": "code",
        "colab": {}
      },
      "cell_type": "code",
      "source": [
        "from sklearn.model_selection import train_test_split\n",
        "\n",
        "X_train, X_test, y_train, y_test = train_test_split(X, y, test_size=0.2)"
      ],
      "execution_count": 0,
      "outputs": []
    },
    {
      "metadata": {
        "id": "drvJmA1GbI9M",
        "colab_type": "text"
      },
      "cell_type": "markdown",
      "source": [
        "# Data overview \n",
        "\n",
        "X_train and X_test have the shape (None, 28, 28), while y_train and y_test have the shape (None, 1)\n",
        "\n",
        "Each example has one of the following labels as target:\n",
        "\n",
        "    0 T-shirt/top\n",
        "    1 Trouser\n",
        "    2 Pullover\n",
        "    3 Dress\n",
        "    4 Coat\n",
        "    5 Sandal\n",
        "    6 Shirt\n",
        "    7 Sneaker\n",
        "    8 Bag\n",
        "    9 Ankle boot "
      ]
    },
    {
      "metadata": {
        "id": "yDweAXhbX-KO",
        "colab_type": "code",
        "colab": {}
      },
      "cell_type": "code",
      "source": [
        "import matplotlib.pyplot as plt\n",
        "\n",
        "fig, (ax1, ax2, ax3) = plt.subplots(1, 3)\n",
        "\n",
        "ax1.imshow(X_train[0], cmap='gray')\n",
        "ax1.set_title('Label:' + str(y_train[0]))\n",
        "\n",
        "ax2.imshow(X_train[1], cmap='gray')\n",
        "ax2.set_title('Label:' + str(y_train[1]))\n",
        "\n",
        "ax3.imshow(X_train[2], cmap='gray')\n",
        "ax3.set_title('Label:' + str(y_train[2]))\n",
        "\n",
        "fig.set_size_inches(21, 14)"
      ],
      "execution_count": 0,
      "outputs": []
    },
    {
      "metadata": {
        "id": "Z9vO8mnPYhxB",
        "colab_type": "code",
        "colab": {}
      },
      "cell_type": "code",
      "source": [
        "X_train = X_train/255.\n",
        "X_test = X_test/255."
      ],
      "execution_count": 0,
      "outputs": []
    },
    {
      "metadata": {
        "id": "lxZuMan6cFld",
        "colab_type": "text"
      },
      "cell_type": "markdown",
      "source": [
        "# Neural Network"
      ]
    },
    {
      "metadata": {
        "id": "OpsW71sHYZGh",
        "colab_type": "code",
        "colab": {}
      },
      "cell_type": "code",
      "source": [
        "import keras"
      ],
      "execution_count": 0,
      "outputs": []
    },
    {
      "metadata": {
        "id": "-P78zUgVYwTL",
        "colab_type": "code",
        "colab": {}
      },
      "cell_type": "code",
      "source": [
        ""
      ],
      "execution_count": 0,
      "outputs": []
    },
    {
      "metadata": {
        "id": "XP51o3SpYwbh",
        "colab_type": "code",
        "colab": {}
      },
      "cell_type": "code",
      "source": [
        ""
      ],
      "execution_count": 0,
      "outputs": []
    },
    {
      "metadata": {
        "id": "E9gYEksWYwiX",
        "colab_type": "code",
        "colab": {}
      },
      "cell_type": "code",
      "source": [
        ""
      ],
      "execution_count": 0,
      "outputs": []
    }
  ]
}