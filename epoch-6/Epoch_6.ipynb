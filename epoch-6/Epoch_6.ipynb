{
  "nbformat": 4,
  "nbformat_minor": 0,
  "metadata": {
    "colab": {
      "name": "Epoch 6.ipynb",
      "version": "0.3.2",
      "provenance": [],
      "collapsed_sections": []
    },
    "kernelspec": {
      "name": "python3",
      "display_name": "Python 3"
    },
    "accelerator": "GPU"
  },
  "cells": [
    {
      "metadata": {
        "id": "xO9fFAqGQPZt",
        "colab_type": "text"
      },
      "cell_type": "markdown",
      "source": [
        "# Natural Language Processing\n",
        "[Slides](https://docs.google.com/presentation/d/1n0sppuB6w4ow2y3enpakBRs4sVLUteTRIDpcP4IUnG0/edit?usp=sharing)"
      ]
    },
    {
      "metadata": {
        "id": "O6By3LrxDPEj",
        "colab_type": "text"
      },
      "cell_type": "markdown",
      "source": [
        "## Imports"
      ]
    },
    {
      "metadata": {
        "id": "o_pFaKzrQO-1",
        "colab_type": "code",
        "colab": {}
      },
      "cell_type": "code",
      "source": [
        "import keras\n",
        "import numpy as np\n",
        "import matplotlib.pyplot as plt\n",
        "%matplotlib inline\n",
        "\n",
        "import seaborn as sns\n",
        "from keras.datasets import imdb\n",
        "\n",
        "from keras.preprocessing.text import Tokenizer\n",
        "from sklearn.metrics.pairwise import cosine_similarity\n",
        "\n",
        "from sklearn.datasets import fetch_20newsgroups\n",
        "from sklearn.model_selection import train_test_split\n",
        "\n",
        "from sklearn.feature_extraction.text import TfidfVectorizer"
      ],
      "execution_count": 0,
      "outputs": []
    },
    {
      "metadata": {
        "id": "ZU01w3z_DRib",
        "colab_type": "text"
      },
      "cell_type": "markdown",
      "source": [
        "## 20 News Groups"
      ]
    },
    {
      "metadata": {
        "id": "m76EAlbzQ20d",
        "colab_type": "code",
        "colab": {}
      },
      "cell_type": "code",
      "source": [
        "news = fetch_20newsgroups()"
      ],
      "execution_count": 0,
      "outputs": []
    },
    {
      "metadata": {
        "id": "WObdo5l3Q5pH",
        "colab_type": "code",
        "colab": {}
      },
      "cell_type": "code",
      "source": [
        "X = news.data\n",
        "y = news.target"
      ],
      "execution_count": 0,
      "outputs": []
    },
    {
      "metadata": {
        "id": "CRGXQmfZNgoz",
        "colab_type": "code",
        "colab": {}
      },
      "cell_type": "code",
      "source": [
        "print(X[0])\n",
        "print(\"###############\")\n",
        "print(X[1])"
      ],
      "execution_count": 0,
      "outputs": []
    },
    {
      "metadata": {
        "id": "yxu1P2B5Rr1_",
        "colab_type": "code",
        "outputId": "86d3a35d-3b86-4d06-db8e-20ea44908ae6",
        "colab": {
          "base_uri": "https://localhost:8080/",
          "height": 809
        }
      },
      "cell_type": "code",
      "source": [
        "plt.bar(np.arange(len(np.unique(y))), np.unique(y, return_counts=True)[1])\n",
        "plt.gcf().set_size_inches(21, 14)"
      ],
      "execution_count": 7,
      "outputs": [
        {
          "output_type": "display_data",
          "data": {
            "image/png": "[encoded data removed]",
            "text/plain": [
              "<Figure size 1512x1008 with 1 Axes>"
            ]
          },
          "metadata": {
            "tags": []
          }
        }
      ]
    },
    {
      "metadata": {
        "id": "R7Rwd5T5-Hk3",
        "colab_type": "text"
      },
      "cell_type": "markdown",
      "source": [
        "## Text Preprocessing"
      ]
    },
    {
      "metadata": {
        "id": "G8s9DXNhDYK_",
        "colab_type": "text"
      },
      "cell_type": "markdown",
      "source": [
        "Text data can come in different shapes and sizes. To 'normalize' the data to make it more usable in our models we need to clean it by removing punctuation, link, removing duplicate spaces, removing newline characters, make everything lowercase.\n",
        "\n",
        "\n",
        "Check this article for more information:\n",
        " - https://machinelearningmastery.com/clean-text-machine-learning-python/\n",
        " "
      ]
    },
    {
      "metadata": {
        "id": "Xhfo8PAOR0rl",
        "colab_type": "code",
        "colab": {}
      },
      "cell_type": "code",
      "source": [
        "import re\n",
        "import nltk\n",
        "import string\n",
        "\n",
        "def clean(text):\n",
        "    text = re.sub('<[^<]+?>', ' ', text)\n",
        " \n",
        "    text = text.replace('\\\\\"', '')\n",
        " \n",
        "    text = text.replace('\\n', ' ')\n",
        "  \n",
        "    text = text.replace('\\t', ' ')\n",
        "\n",
        "    text = text.replace('\"', '')\n",
        "      \n",
        "    text = text.translate(str.maketrans('', '', string.punctuation))\n",
        "\n",
        "    text = re.sub(' +', ' ', text)\n",
        "    \n",
        "    text = re.sub('\\d+', '0', text)\n",
        "    \n",
        "    text = text.lower()\n",
        "    \n",
        "    \n",
        "    return text"
      ],
      "execution_count": 0,
      "outputs": []
    },
    {
      "metadata": {
        "id": "FeZ8T1ubSa_H",
        "colab_type": "code",
        "colab": {}
      },
      "cell_type": "code",
      "source": [
        "clean(X[0])"
      ],
      "execution_count": 0,
      "outputs": []
    },
    {
      "metadata": {
        "id": "1Mrlmd4t-NpH",
        "colab_type": "text"
      },
      "cell_type": "markdown",
      "source": [
        "# Bag of Words"
      ]
    },
    {
      "metadata": {
        "id": "O2rnRva6D3gH",
        "colab_type": "text"
      },
      "cell_type": "markdown",
      "source": [
        "Bag of words model is a way to encode each of our documents as a set of numbers. These numbers represent if a word from the vocabulary is present in the document or not.\n",
        "\n",
        "Check these links to find out more:\n",
        "- https://machinelearningmastery.com/gentle-introduction-bag-words-model/\n",
        "- https://medium.com/greyatom/an-introduction-to-bag-of-words-in-nlp-ac967d43b428\n"
      ]
    },
    {
      "metadata": {
        "id": "h7So03qoScSC",
        "colab_type": "code",
        "colab": {}
      },
      "cell_type": "code",
      "source": [
        "from sklearn.feature_extraction.text import CountVectorizer\n",
        "from nltk.corpus import stopwords\n",
        "import nltk\n",
        "nltk.download('stopwords')"
      ],
      "execution_count": 0,
      "outputs": []
    },
    {
      "metadata": {
        "id": "n-iGXH8fUYXq",
        "colab_type": "code",
        "colab": {}
      },
      "cell_type": "code",
      "source": [
        "vectorizer = CountVectorizer(binary=True, stop_words=stopwords.words('english'), min_df=3, max_features=100)\n",
        "\n",
        "X_train_onehot = vectorizer.fit_transform([clean(x) for x in X]).todense()\n"
      ],
      "execution_count": 0,
      "outputs": []
    },
    {
      "metadata": {
        "id": "HRqBjJ-bUgAV",
        "colab_type": "code",
        "colab": {}
      },
      "cell_type": "code",
      "source": [
        "X_train_onehot.shape"
      ],
      "execution_count": 0,
      "outputs": []
    },
    {
      "metadata": {
        "id": "r5pCb0HFVHWS",
        "colab_type": "code",
        "outputId": "c76a6da6-9e5b-450f-aca1-e5193c0383f3",
        "colab": {
          "base_uri": "https://localhost:8080/",
          "height": 448
        }
      },
      "cell_type": "code",
      "source": [
        "sns.heatmap(X_train_onehot[:100, :])\n",
        "\n",
        "ax = plt.gca()\n",
        "\n",
        "ax.set_xlabel('Word Index')\n",
        "ax.set_ylabel('Document Index')\n",
        "\n",
        "plt.gcf().set_size_inches(14, 7)"
      ],
      "execution_count": 13,
      "outputs": [
        {
          "output_type": "display_data",
          "data": {
            "image/png": "[encoded data removed]",
            "text/plain": [
              "<Figure size 1008x504 with 2 Axes>"
            ]
          },
          "metadata": {
            "tags": []
          }
        }
      ]
    },
    {
      "metadata": {
        "id": "nJXcMgY1-QGW",
        "colab_type": "text"
      },
      "cell_type": "markdown",
      "source": [
        "This image is a showing for a particular document (y axis), what words appear in it. Only \"important\" words are taken into account, that have the highest term frequency.\n",
        "\n"
      ]
    },
    {
      "metadata": {
        "id": "XdZ_XKSN_Ky2",
        "colab_type": "text"
      },
      "cell_type": "markdown",
      "source": [
        "## Feed-Forward Neural Network on Bag of Words"
      ]
    },
    {
      "metadata": {
        "id": "zMKd2-PaVMfe",
        "colab_type": "code",
        "colab": {}
      },
      "cell_type": "code",
      "source": [
        "vectorizer = CountVectorizer(binary=True, stop_words=stopwords.words('english'), max_features=5000)\n",
        "X_train_onehot = vectorizer.fit_transform([clean(x) for x in X]).todense()\n",
        "\n",
        "x_train, x_test, y_train, y_test = train_test_split(X_train_onehot, y, random_state=42)"
      ],
      "execution_count": 0,
      "outputs": []
    },
    {
      "metadata": {
        "id": "CZwWgkyEj6uo",
        "colab_type": "code",
        "colab": {}
      },
      "cell_type": "code",
      "source": [
        "x_train.shape, y_train.shape"
      ],
      "execution_count": 0,
      "outputs": []
    },
    {
      "metadata": {
        "id": "J8UCHS32YC-7",
        "colab_type": "code",
        "colab": {}
      },
      "cell_type": "code",
      "source": [
        "model = keras.models.Sequential()\n",
        "\n",
        "model.add(keras.layers.Dense(64, activation='relu', input_shape=(x_train.shape[-1], )))\n",
        "model.add(keras.layers.Dense(32, activation='relu'))\n",
        "\n",
        "model.add(keras.layers.Dense(len(np.unique(y)), activation='softmax'))\n",
        "\n",
        "\n",
        "model.compile(loss='sparse_categorical_crossentropy', optimizer='adam', metrics=['accuracy'])\n",
        "\n",
        "model.summary()"
      ],
      "execution_count": 0,
      "outputs": []
    },
    {
      "metadata": {
        "id": "_cYCIu-gYgDb",
        "colab_type": "code",
        "colab": {}
      },
      "cell_type": "code",
      "source": [
        "model.fit(x_train, y_train, epochs=5, batch_size=32, validation_data = (x_test, y_test))"
      ],
      "execution_count": 0,
      "outputs": []
    },
    {
      "metadata": {
        "id": "4P5J6YjsEPih",
        "colab_type": "text"
      },
      "cell_type": "markdown",
      "source": [
        "The network is overfitting. What can we do to prevent this?"
      ]
    },
    {
      "metadata": {
        "id": "Py0yuWxo_QCU",
        "colab_type": "text"
      },
      "cell_type": "markdown",
      "source": [
        "## Feed-Forward Neural Network with Tfidf"
      ]
    },
    {
      "metadata": {
        "id": "bxCwiVghEasY",
        "colab_type": "text"
      },
      "cell_type": "markdown",
      "source": [
        "Tf-idf (term frequency - inverse term frequency) is another way to encode our documents, but takes into account frequent words and infrequent words. \n",
        "\n",
        "Single-page tutorial: \n",
        " - http://www.tfidf.com/\n",
        "\n",
        "Check out this plot to understand more about the intuition:\n",
        "\n",
        "![](https://cdn-images-1.medium.com/max/1200/1*_OsV8gO2cjy9qcFhrtCdiw.jpeg)"
      ]
    },
    {
      "metadata": {
        "id": "etePJMU2_i4B",
        "colab_type": "code",
        "colab": {}
      },
      "cell_type": "code",
      "source": [
        "vectorizer = TfidfVectorizer(stop_words=stopwords.words('english'), max_features=100)"
      ],
      "execution_count": 0,
      "outputs": []
    },
    {
      "metadata": {
        "id": "HDgFUY68_i6t",
        "colab_type": "code",
        "colab": {}
      },
      "cell_type": "code",
      "source": [
        "X_train_tfidf = vectorizer.fit_transform([clean(x) for x in X]).todense()"
      ],
      "execution_count": 0,
      "outputs": []
    },
    {
      "metadata": {
        "id": "vUzMefrYF4Nu",
        "colab_type": "code",
        "colab": {}
      },
      "cell_type": "code",
      "source": [
        "X_train_tfidf.shape"
      ],
      "execution_count": 0,
      "outputs": []
    },
    {
      "metadata": {
        "id": "j7-W7uWk_i-C",
        "colab_type": "code",
        "outputId": "2b58b126-8e59-49c6-82d0-901adc64261d",
        "colab": {
          "base_uri": "https://localhost:8080/",
          "height": 432
        }
      },
      "cell_type": "code",
      "source": [
        "sns.heatmap(X_train_tfidf[:100, :])\n",
        "\n",
        "plt.gcf().set_size_inches(14, 7)"
      ],
      "execution_count": 21,
      "outputs": [
        {
          "output_type": "display_data",
          "data": {
            "image/png": "[encoded data removed]",
            "text/plain": [
              "<Figure size 1008x504 with 2 Axes>"
            ]
          },
          "metadata": {
            "tags": []
          }
        }
      ]
    },
    {
      "metadata": {
        "id": "0qAXFaln_jAu",
        "colab_type": "code",
        "colab": {}
      },
      "cell_type": "code",
      "source": [
        "vectorizer = TfidfVectorizer(stop_words=stopwords.words('english'), max_features=5000)\n",
        "X_train_tfidf = vectorizer.fit_transform([clean(x) for x in X]).todense()\n",
        "\n",
        "\n",
        "model = keras.models.Sequential()\n",
        "model.add(keras.layers.Dense(64, input_shape=(5000, ), activation='relu'))\n",
        "model.add(keras.layers.Dense(32, activation='relu'))\n",
        "model.add(keras.layers.Dense(len(np.unique(y)), activation='softmax'))\n",
        "\n",
        "\n",
        "model.compile(loss='sparse_categorical_crossentropy', optimizer='adam', metrics=['accuracy'])\n",
        "\n",
        "model.fit(X_train_tfidf, y, epochs=5, validation_split=0.2)"
      ],
      "execution_count": 0,
      "outputs": []
    },
    {
      "metadata": {
        "id": "FxXQMJg_Jq48",
        "colab_type": "text"
      },
      "cell_type": "markdown",
      "source": [
        "## Calculating similarity between documents"
      ]
    },
    {
      "metadata": {
        "id": "xJcOM-tmFxJK",
        "colab_type": "text"
      },
      "cell_type": "markdown",
      "source": [
        "![](https://cdn-images-1.medium.com/max/800/0*XMW5mf81LSHodnTi.png)"
      ]
    },
    {
      "metadata": {
        "id": "nzNNC53UJqLC",
        "colab_type": "code",
        "colab": {}
      },
      "cell_type": "code",
      "source": [
        "docs = [X[i] for i in np.argwhere(y == 0).ravel()]\n",
        "\n",
        "doc_vector = vectorizer.transform([clean(docs[0])])\n",
        "doc_vector2 = vectorizer.transform([clean(docs[1])])\n",
        "\n",
        "print(docs[0])\n",
        "print('#########################')\n",
        "print(docs[1])\n",
        "\n",
        "print(cosine_similarity(doc_vector.reshape(1, -1), doc_vector2.reshape(1, -1)))\n",
        "\n"
      ],
      "execution_count": 0,
      "outputs": []
    },
    {
      "metadata": {
        "id": "70A4TSm1Lwgz",
        "colab_type": "code",
        "colab": {}
      },
      "cell_type": "code",
      "source": [
        "docs = [X[i] for i in np.argwhere(y == 0).ravel()]\n",
        "docs2 = [X[i] for i in np.argwhere(y == 1).ravel()]\n",
        "\n",
        "doc_vector = vectorizer.transform([clean(docs[0])])\n",
        "doc_vector2 = vectorizer.transform([clean(docs2[0])])\n",
        "\n",
        "print(docs[0])\n",
        "print('#########################')\n",
        "print(docs2[0])\n",
        "\n",
        "print(cosine_similarity(doc_vector.reshape(1, -1), doc_vector2.reshape(1, -1)))"
      ],
      "execution_count": 0,
      "outputs": []
    },
    {
      "metadata": {
        "id": "cN_l5gTYMCYd",
        "colab_type": "text"
      },
      "cell_type": "markdown",
      "source": [
        "### TfIdf only captures syntactic information (occurance of words). Similarity using tfidf between documents is only concerned what words are present, with no semantic meaning."
      ]
    },
    {
      "metadata": {
        "id": "WAYFSGABn_IT",
        "colab_type": "text"
      },
      "cell_type": "markdown",
      "source": [
        "# Word Embeddings"
      ]
    },
    {
      "metadata": {
        "id": "ub3h_FUtFBtL",
        "colab_type": "text"
      },
      "cell_type": "markdown",
      "source": [
        "If we wish to capture some semantic information, we must resort to word embeddings like Word2Vec. These embeddings are learned through a neural network such that they capture information about the relation between words. \n",
        "\n",
        "- https://www.tensorflow.org/tutorials/representation/word2vec\n",
        "- https://towardsdatascience.com/introduction-to-word-embedding-and-word2vec-652d0c2060fa"
      ]
    },
    {
      "metadata": {
        "id": "V1h_pgfohH2k",
        "colab_type": "code",
        "colab": {}
      },
      "cell_type": "code",
      "source": [
        "import gensim\n",
        "\n",
        "import logging\n",
        "logging.basicConfig(format=\"%(levelname)s - %(asctime)s: %(message)s\", datefmt= '%H:%M:%S', level=logging.INFO)"
      ],
      "execution_count": 0,
      "outputs": []
    },
    {
      "metadata": {
        "id": "bVjV93ABYwUT",
        "colab_type": "code",
        "colab": {}
      },
      "cell_type": "code",
      "source": [
        "from gensim.models import Word2Vec\n",
        "\n",
        "w2v_model = Word2Vec(min_count=20,\n",
        "                     window=2,\n",
        "                     size=300,\n",
        "                     sample=6e-5, \n",
        "                     alpha=0.03, \n",
        "                     min_alpha=0.0007, \n",
        "                     negative=20)"
      ],
      "execution_count": 0,
      "outputs": []
    },
    {
      "metadata": {
        "id": "_Vbx_9lgpAg9",
        "colab_type": "code",
        "colab": {}
      },
      "cell_type": "code",
      "source": [
        "cleaned_text = [clean(x).split() for x in X]"
      ],
      "execution_count": 0,
      "outputs": []
    },
    {
      "metadata": {
        "id": "rNv_zqlbZZXQ",
        "colab_type": "code",
        "colab": {}
      },
      "cell_type": "code",
      "source": [
        "w2v_model.build_vocab(cleaned_text, progress_per=1000)"
      ],
      "execution_count": 0,
      "outputs": []
    },
    {
      "metadata": {
        "id": "cFQggFwxjkVx",
        "colab_type": "code",
        "colab": {}
      },
      "cell_type": "code",
      "source": [
        "w2v_model.train(cleaned_text, total_examples=w2v_model.corpus_count, epochs=1, report_delay=1)"
      ],
      "execution_count": 0,
      "outputs": []
    },
    {
      "metadata": {
        "id": "pr7t6pjwkvlB",
        "colab_type": "code",
        "colab": {}
      },
      "cell_type": "code",
      "source": [
        "w2v_model.init_sims(replace=True)"
      ],
      "execution_count": 0,
      "outputs": []
    },
    {
      "metadata": {
        "id": "lB4X8ErZaANW",
        "colab_type": "code",
        "colab": {}
      },
      "cell_type": "code",
      "source": [
        "w2v_model.wv.most_similar([\"woman\"])"
      ],
      "execution_count": 0,
      "outputs": []
    },
    {
      "metadata": {
        "id": "ay-LI6cMgTr7",
        "colab_type": "code",
        "outputId": "bf06d960-d24d-4531-feca-c60b9bd31adc",
        "colab": {
          "base_uri": "https://localhost:8080/",
          "height": 809
        }
      },
      "cell_type": "code",
      "source": [
        "from sklearn.decomposition import PCA\n",
        "import random\n",
        "\n",
        "index = random.randint(0, 5000)\n",
        "index = 200\n",
        "words = list(w2v_model.wv.vocab.keys())[index: index+25]\n",
        "\n",
        "pca = PCA(2)\n",
        "\n",
        "vectors = np.array([w2v_model.wv.get_vector(w) for w in words])\n",
        "\n",
        "transformed = pca.fit_transform(vectors)\n",
        "\n",
        "for i, v in enumerate(transformed[:25]):\n",
        "  plt.text(v[0], v[1], words[i], fontsize=21)\n",
        "\n",
        "plt.scatter(transformed[:, 0], transformed[:, 1], s=0)\n",
        "plt.gcf().set_size_inches(21, 14)"
      ],
      "execution_count": 32,
      "outputs": [
        {
          "output_type": "display_data",
          "data": {
            "image/png": "[encoded data removed]",
            "text/plain": [
              "<Figure size 1512x1008 with 1 Axes>"
            ]
          },
          "metadata": {
            "tags": []
          }
        }
      ]
    },
    {
      "metadata": {
        "id": "U_8bnqdFa0fC",
        "colab_type": "code",
        "colab": {}
      },
      "cell_type": "code",
      "source": [
        "def get_sentence_embedding(sentence):\n",
        "  \n",
        "  embedding = np.zeros(300)\n",
        "  \n",
        "  for word in sentence.split():\n",
        "    try:\n",
        "      vector = w2v_model.wv.get_vector(word)\n",
        "    except KeyError as e:\n",
        "      vector = np.zeros(300)\n",
        "    embedding += vector\n",
        "    \n",
        "  return embedding / len(sentence.split())\n",
        "  "
      ],
      "execution_count": 0,
      "outputs": []
    },
    {
      "metadata": {
        "id": "4jbjE6JbbpzB",
        "colab_type": "code",
        "colab": {}
      },
      "cell_type": "code",
      "source": [
        "x_w2v = np.array([get_sentence_embedding(clean(sentence)) for sentence in X])"
      ],
      "execution_count": 0,
      "outputs": []
    },
    {
      "metadata": {
        "id": "DBuctXpga1QT",
        "colab_type": "code",
        "colab": {}
      },
      "cell_type": "code",
      "source": [
        "x_train, x_test, y_train, y_test = train_test_split(x_w2v, y)"
      ],
      "execution_count": 0,
      "outputs": []
    },
    {
      "metadata": {
        "id": "vkt7ee0tbtM_",
        "colab_type": "code",
        "colab": {}
      },
      "cell_type": "code",
      "source": [
        "model = keras.models.Sequential()\n",
        "model.add(keras.layers.Dense(256, activation='relu', input_shape=(300, )))\n",
        "model.add(keras.layers.Dropout(0.3))\n",
        "model.add(keras.layers.Dense(64, activation='relu'))\n",
        "model.add(keras.layers.Dense(len(np.unique(y)), activation='softmax'))\n",
        "\n",
        "\n",
        "model.compile(loss='sparse_categorical_crossentropy', optimizer='adam', metrics=['accuracy'])"
      ],
      "execution_count": 0,
      "outputs": []
    },
    {
      "metadata": {
        "id": "BOYVWfF5vps8",
        "colab_type": "code",
        "colab": {}
      },
      "cell_type": "code",
      "source": [
        "model.summary()"
      ],
      "execution_count": 0,
      "outputs": []
    },
    {
      "metadata": {
        "id": "4A_UPYoxvsIF",
        "colab_type": "code",
        "colab": {}
      },
      "cell_type": "code",
      "source": [
        "model.fit(x_train, y_train, epochs=10, batch_size=32, validation_data=(x_test, y_test))"
      ],
      "execution_count": 0,
      "outputs": []
    },
    {
      "metadata": {
        "id": "ZIBh_zn99_Se",
        "colab_type": "text"
      },
      "cell_type": "markdown",
      "source": [
        "## LSTM with custom embeddings\n",
        "\n",
        "Legendary blog post by Andrew Karpathy:\n",
        "- http://karpathy.github.io/2015/05/21/rnn-effectiveness/\n"
      ]
    },
    {
      "metadata": {
        "id": "Ugu6xoJnGS0_",
        "colab_type": "text"
      },
      "cell_type": "markdown",
      "source": [
        "![](https://image.slidesharecdn.com/data2day2016daniel-161006141859/95/natural-language-processing-with-recurrent-neural-networks-15-638.jpg?cb=1475764680)"
      ]
    },
    {
      "metadata": {
        "id": "nLyGHt0iyuBo",
        "colab_type": "code",
        "colab": {}
      },
      "cell_type": "code",
      "source": [
        "max_words = 2000\n",
        "max_len = 150\n",
        "\n",
        "tok = Tokenizer(num_words=max_words)\n",
        "tok.fit_on_texts(cleaned_text)\n",
        "\n",
        "sequences = tok.texts_to_sequences(cleaned_text)\n",
        "sequences_matrix = keras.preprocessing.sequence.pad_sequences(sequences, maxlen=max_len)"
      ],
      "execution_count": 0,
      "outputs": []
    },
    {
      "metadata": {
        "id": "GLRqikoavz_t",
        "colab_type": "code",
        "colab": {}
      },
      "cell_type": "code",
      "source": [
        "sequences_matrix.shape"
      ],
      "execution_count": 0,
      "outputs": []
    },
    {
      "metadata": {
        "id": "i0LJrU5yu1vd",
        "colab_type": "code",
        "colab": {}
      },
      "cell_type": "code",
      "source": [
        "model = keras.models.Sequential()\n",
        "\n",
        "model.add(keras.layers.Embedding(max_words, 50, input_length=max_len, input_shape=(max_len, )))\n",
        "\n",
        "model.add(keras.layers.CuDNNLSTM(128)) # can be replaced with RNN or GRU\n",
        "model.add(keras.layers.Dense(128, activation='relu'))\n",
        "model.add(keras.layers.Dropout(0.3))\n",
        "model.add(keras.layers.Dense(len(np.unique(y)), activation='softmax'))\n",
        "\n",
        "\n",
        "model.compile(loss='sparse_categorical_crossentropy', optimizer='adam', metrics=['accuracy'])"
      ],
      "execution_count": 0,
      "outputs": []
    },
    {
      "metadata": {
        "id": "VKRn0HabvLkz",
        "colab_type": "code",
        "colab": {}
      },
      "cell_type": "code",
      "source": [
        "model.fit(sequences_matrix, y, epochs=5, batch_size=32, validation_split=0.2)"
      ],
      "execution_count": 0,
      "outputs": []
    },
    {
      "metadata": {
        "id": "31En1bSq1vI7",
        "colab_type": "code",
        "colab": {}
      },
      "cell_type": "code",
      "source": [
        "model.layers[0].get_weights()[0][1]"
      ],
      "execution_count": 0,
      "outputs": []
    },
    {
      "metadata": {
        "id": "Q2DO0hM-2OJ9",
        "colab_type": "code",
        "colab": {}
      },
      "cell_type": "code",
      "source": [
        "\n",
        "def most_similar(word, weights, amount=10):\n",
        "  index = tok.word_index[word]\n",
        "  \n",
        "  try:\n",
        "    embedding = weights[index].reshape(1, -1)\n",
        "  except:\n",
        "    embedding = weights[0].reshape(1, -1)\n",
        "  \n",
        "  sims = cosine_similarity(embedding, weights).ravel()\n",
        "\n",
        "  indices = np.argsort(sims)[::-1][1:amount+1]\n",
        "  return [(tok.index_word[i], sims[i]) for i in indices.ravel()]"
      ],
      "execution_count": 0,
      "outputs": []
    },
    {
      "metadata": {
        "id": "EGLYlCAT2uz8",
        "colab_type": "code",
        "colab": {}
      },
      "cell_type": "code",
      "source": [
        "embedding_layer = model.layers[0].get_weights()[0]\n",
        "\n",
        "most_similar('man', embedding_layer)"
      ],
      "execution_count": 0,
      "outputs": []
    },
    {
      "metadata": {
        "id": "EZvK8Ftt6iv3",
        "colab_type": "text"
      },
      "cell_type": "markdown",
      "source": [
        "Note that these may or may not mean anything to us. It's what the network decided to learn about these words. Word2Vec can give us semantically similar words because it was trained that way."
      ]
    },
    {
      "metadata": {
        "id": "BvhMf8UX7WJG",
        "colab_type": "code",
        "colab": {}
      },
      "cell_type": "code",
      "source": [
        ""
      ],
      "execution_count": 0,
      "outputs": []
    }
  ]
}